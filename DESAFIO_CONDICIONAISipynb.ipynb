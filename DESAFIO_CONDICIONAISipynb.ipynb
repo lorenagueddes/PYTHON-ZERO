{
  "nbformat": 4,
  "nbformat_minor": 0,
  "metadata": {
    "colab": {
      "name": "DESAFIO CONDICIONAISipynb",
      "provenance": [],
      "collapsed_sections": [],
      "authorship_tag": "ABX9TyOr+JTceAtMNRDMP8ipJjvh",
      "include_colab_link": true
    },
    "kernelspec": {
      "name": "python3",
      "display_name": "Python 3"
    },
    "language_info": {
      "name": "python"
    }
  },
  "cells": [
    {
      "cell_type": "markdown",
      "metadata": {
        "id": "view-in-github",
        "colab_type": "text"
      },
      "source": [
        "<a href=\"https://colab.research.google.com/github/lorenagueddes/PYTHON-ZERO---CURSO-DNC/blob/main/DESAFIO_CONDICIONAISipynb.ipynb\" target=\"_parent\"><img src=\"https://colab.research.google.com/assets/colab-badge.svg\" alt=\"Open In Colab\"/></a>"
      ]
    },
    {
      "cell_type": "markdown",
      "source": [
        "1. DEPÓSITO DE BEBIDAS\n",
        "\n",
        "Seu primeiro desafio é desenvolver um programa para um depósito de\n",
        "bebidas que valide venda de bebidas para maiores de idade (maior ou\n",
        "igual 18 anos) no mercado, o programa deve receber do usuário os\n",
        "valores do nome e ano que ele nasceu e retornar se ele pode comprar\n",
        "bebidas."
      ],
      "metadata": {
        "id": "ybmJwin3SvUv"
      }
    },
    {
      "cell_type": "code",
      "source": [
        "print('-'*20,'DEPÓSITO DE BEBIDAS','-'*20)\n",
        "\n",
        "nome = input('Digite o nome do consumidor: ')\n",
        "anoNascimento = int(input('Digite o ano do nascimento: '))\n",
        "\n",
        "if anoNascimento <= 2004:\n",
        "  print('permitido a venda de bebidas alcoolicas')\n",
        "\n",
        "else:\n",
        "  print('Não permitido a venda de bebidas alcoolicas')"
      ],
      "metadata": {
        "colab": {
          "base_uri": "https://localhost:8080/"
        },
        "id": "q66lB9baS5Qx",
        "outputId": "007cefb6-1c29-4601-f5d0-2533060936e1"
      },
      "execution_count": null,
      "outputs": [
        {
          "output_type": "stream",
          "name": "stdout",
          "text": [
            "-------------------- DEPÓSITO DE BEBIDAS --------------------\n",
            "Digite o nome do consumidor: Joana\n",
            "Digite o ano do nascimento: 2005\n",
            "Não permitido a venda de bebidas alcoolicas\n"
          ]
        }
      ]
    },
    {
      "cell_type": "markdown",
      "source": [
        "2. MÉDIA BIMESTRE\n",
        "\n",
        "Esse bimestre na faculdade você precisa tirar nota 8 de média para\n",
        "passar na matéria, desenvolva um script que leia a nota de suas\n",
        "últimas 3 provas, tire a média delas e verifique se você passou."
      ],
      "metadata": {
        "id": "iESIviGSURdx"
      }
    },
    {
      "cell_type": "code",
      "source": [
        "print('-'*20,'MÉDIA BIMESTRE','-'*20)\n",
        "\n",
        "prova1 = float(input('Nota 1: '))\n",
        "prova2 = float(input('Nota 2: '))\n",
        "prova3 = float(input('Nota 3: '))\n",
        "media = (prova1 + prova2 + prova3) / 3\n",
        "print('media: {:.2f}'.format(media))\n",
        "\n",
        "if media >= 8:\n",
        "  print('APROVADO')\n",
        "else:\n",
        "  print('REPROVADO')"
      ],
      "metadata": {
        "colab": {
          "base_uri": "https://localhost:8080/"
        },
        "id": "9k_SINd2UbxG",
        "outputId": "337c528f-d5b5-4f6d-fe6b-0f3139f06bc4"
      },
      "execution_count": null,
      "outputs": [
        {
          "output_type": "stream",
          "name": "stdout",
          "text": [
            "-------------------- MÉDIA BIMESTRE --------------------\n",
            "Nota 1: 9.5\n",
            "Nota 2: 8\n",
            "Nota 3: 10\n",
            "media: 9.17\n",
            "APROVADO\n"
          ]
        }
      ]
    },
    {
      "cell_type": "markdown",
      "source": [
        "3. FISIOTERAPEUTA\n",
        "\n",
        "A fisioterapeuta que você vai gosta muito de brincar com números, e\n",
        "pediu para você criar um sistema que verifique se a altura inserida é\n",
        "par ou impar."
      ],
      "metadata": {
        "id": "v4skyZu1WDN6"
      }
    },
    {
      "cell_type": "code",
      "source": [
        "print('-'*20,'DADOS FISIOTERAPEUTA','-'*20)\n",
        "\n",
        "altura = float(input('Digite a altura em cm:  '))\n",
        "\n",
        "if altura % 2 == 0:\n",
        "  print('a altura é par')\n",
        "else:\n",
        "  print('a altura é impar')"
      ],
      "metadata": {
        "colab": {
          "base_uri": "https://localhost:8080/"
        },
        "id": "UPiEWCxzWKLG",
        "outputId": "7d4366ff-2389-4b82-c463-04e192cd620e"
      },
      "execution_count": null,
      "outputs": [
        {
          "output_type": "stream",
          "name": "stdout",
          "text": [
            "-------------------- DADOS FISIOTERAPEUTA --------------------\n",
            "Digite a altura em cm:  155\n",
            "a altura é impar\n"
          ]
        }
      ]
    },
    {
      "cell_type": "markdown",
      "source": [
        "4. QUAL TRIMESTRE ESTAMOS?\n",
        "\n",
        "Faça um script que você coloque a quantidade de dias e descubra em\n",
        "qual trimestre esse dia está no ano."
      ],
      "metadata": {
        "id": "aCVM7eT0Yh6l"
      }
    },
    {
      "cell_type": "code",
      "source": [
        "print('-'*20,'Qual trimestre estamos?','-'*20)\n",
        "print('')\n",
        "entrada = int(input('Qual dia estamos? '))\n",
        "\n",
        "\n",
        "\n",
        "if entrada <= 90:\n",
        "  print('TRIMESTRE 1')\n",
        "\n",
        "else:\n",
        "  if entrada > 90 and entrada <= 180:\n",
        "    print('TRIMESTRE 2')\n",
        "\n",
        "  if entrada > 180 and entrada <= 270:\n",
        "      print('TRIMESTRE 3')\n",
        "\n",
        "  if entrada > 270 and entrada <= 360:\n",
        "        print('TRIMESTRE 4')\n",
        "\n",
        "print('fim')\n",
        "\n"
      ],
      "metadata": {
        "colab": {
          "base_uri": "https://localhost:8080/"
        },
        "id": "DZNNPZ0_Yw4h",
        "outputId": "a455cea1-633f-4300-a49f-f15b1f233ac5"
      },
      "execution_count": null,
      "outputs": [
        {
          "output_type": "stream",
          "name": "stdout",
          "text": [
            "-------------------- Qual trimestre estamos? --------------------\n",
            "\n",
            "Qual dia estamos? 272\n",
            "TRIMESTRE 4\n",
            "fim\n"
          ]
        }
      ]
    },
    {
      "cell_type": "markdown",
      "source": [
        "5. SISTEMA COMPARAÇÃO NÚMEROS\n",
        "\n",
        "Desenvolva um sistema que leia 3 números e diga qual é o maior (se\n",
        "houver empate, exiba os empatados)."
      ],
      "metadata": {
        "id": "rcuPhEGOZceA"
      }
    },
    {
      "cell_type": "code",
      "source": [
        "print('-'*20,'SISTEMA COMPARAÇÃO NÚMERO','-'*20)\n",
        "print('')\n",
        "\n",
        "entrada1 = int(input('Digite um número: '))\n",
        "entrada2 = int(input('Digite um segundo número: '))\n",
        "entrada3 = int(input('Digite um terceiro número: '))\n",
        "\n",
        "if entrada1 > entrada2 and entrada3:\n",
        "  print('o número {} é o maior número'.format(entrada1))\n",
        "\n",
        "else:\n",
        "  if entrada2 > entrada1 and entrada2 > entrada3:\n",
        "    print('o número {} é o maior número'.format(entrada2))\n",
        "  if entrada3 > entrada1 and entrada3 > entrada2:\n",
        "    print('o número {} é o maior número'.format(entrada3))\n",
        "  if entrada1 == entrada2:\n",
        "    print('o primeiro número é igual ao segundo número')\n",
        "  if entrada2 == entrada3:\n",
        "    print('o segundo número é igual ao terceiro número') \n",
        "  if entrada1 == entrada3:\n",
        "    print('o primeiro número é igual ao terceiro número')\n",
        "  if entrada1 == entrada2 and entrada1 == entrada3:\n",
        "    print('os três números são iguais')\n",
        "\n",
        "print('fim')"
      ],
      "metadata": {
        "id": "ea-Ifhq3Zn8O",
        "colab": {
          "base_uri": "https://localhost:8080/"
        },
        "outputId": "a011f6cb-b645-4420-cf54-1877eecf096f"
      },
      "execution_count": null,
      "outputs": [
        {
          "output_type": "stream",
          "name": "stdout",
          "text": [
            "-------------------- SISTEMA COMPARAÇÃO NÚMERO --------------------\n",
            "\n",
            "Digite um número: 100\n",
            "Digite um segundo número: 100\n",
            "Digite um terceiro número: 200\n",
            "o número 200 é o maior número\n",
            "o primeiro número é igual ao segundo número\n",
            "fim\n"
          ]
        }
      ]
    }
  ]
}